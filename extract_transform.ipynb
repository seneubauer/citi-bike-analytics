{
 "cells": [
  {
   "cell_type": "code",
   "execution_count": null,
   "id": "40ae533d",
   "metadata": {},
   "outputs": [],
   "source": [
    "# import dependencies\n",
    "import dateutil.parser as parser\n",
    "import pandas as pd\n",
    "import os"
   ]
  },
  {
   "cell_type": "code",
   "execution_count": null,
   "id": "6c154dbf",
   "metadata": {
    "scrolled": false
   },
   "outputs": [],
   "source": [
    "# list of raw data files\n",
    "raw_data = os.listdir(\"raw_data\")\n",
    "\n",
    "# list of dataframes\n",
    "df_list = []\n",
    "\n",
    "# specify row parameters\n",
    "target_rows = 500000\n",
    "rows_per_file = int(target_rows / len(raw_data))\n",
    "\n",
    "# specify target column names\n",
    "target_columns = [\"trip_duration\",\n",
    "                  \"start_time\",\n",
    "                  \"stop_time\",\n",
    "                  \"start_station_id\",\n",
    "                  \"start_station_name\",\n",
    "                  \"start_station_lat\",\n",
    "                  \"start_station_lng\",\n",
    "                  \"end_station_id\",\n",
    "                  \"end_station_name\",\n",
    "                  \"end_station_lat\",\n",
    "                  \"end_station_lng\",\n",
    "                  \"bike_id\",\n",
    "                  \"user_type\",\n",
    "                  \"birth_year\",\n",
    "                  \"gender\"]\n",
    "\n",
    "# iterate through the data files\n",
    "i = 0\n",
    "for file in raw_data:\n",
    "    \n",
    "    # read the csv into a dataframe\n",
    "    raw_df = pd.read_csv(os.path.join(\"raw_data\", file))\n",
    "    \n",
    "    # store the ride count\n",
    "    ride_count = raw_df.shape[0]\n",
    "    \n",
    "    # drop null rows\n",
    "    raw_df = raw_df.dropna()\n",
    "    \n",
    "    # rename the columns\n",
    "    raw_df.columns = target_columns\n",
    "    \n",
    "    # remove messy newline characters\n",
    "    raw_df = raw_df.replace(\"\\\\N\", \"\")\n",
    "    \n",
    "    # only allow numeric rows and enfore birth year data type\n",
    "    raw_df = raw_df.loc[(raw_df[\"birth_year\"] != \"\")]\n",
    "    raw_df[\"birth_year\"] = raw_df[\"birth_year\"].astype(int)\n",
    "    \n",
    "    # remove birth year typos\n",
    "    raw_df = raw_df.loc[(raw_df[\"birth_year\"] > 1920)]\n",
    "    \n",
    "    # extract the required rows\n",
    "    if raw_df.shape[0] > rows_per_file:\n",
    "        filtered_df = raw_df.sample(n = rows_per_file)\n",
    "    \n",
    "    # enforce datetime data types\n",
    "    filtered_df[\"start_time\"] = filtered_df[\"start_time\"].apply(lambda x: parser.parse(x).strftime(\"%Y/%m/%d %H:%M:%S\"))\n",
    "    filtered_df[\"stop_time\"] = filtered_df[\"stop_time\"].apply(lambda x: parser.parse(x).strftime(\"%Y/%m/%d %H:%M:%S\"))\n",
    "    \n",
    "    # save the current year for this dataset\n",
    "    current_year = parser.parse(filtered_df[\"start_time\"].iloc[0]).year\n",
    "    \n",
    "    # create a new column for user age\n",
    "    filtered_df[\"user_age\"] = filtered_df.apply(lambda x: current_year - x[\"birth_year\"], axis = 1)\n",
    "    \n",
    "    # create a new column for total ride counts\n",
    "    filtered_df[\"ride_count\"] = ride_count\n",
    "    \n",
    "    # add dataframe to the list\n",
    "    print(f\"{i}\\t{file}\")\n",
    "    i += 1\n",
    "    df_list.append(filtered_df)\n",
    "\n",
    "# construct the final df\n",
    "main_df = pd.concat(df_list)\n",
    "main_df"
   ]
  },
  {
   "cell_type": "code",
   "execution_count": null,
   "id": "17e97850",
   "metadata": {},
   "outputs": [],
   "source": [
    "# save the dataframes to file\n",
    "main_df.to_csv(os.path.join(\"data\", \"bike_data.csv\"), index = False)"
   ]
  },
  {
   "cell_type": "code",
   "execution_count": null,
   "id": "6db10318",
   "metadata": {},
   "outputs": [],
   "source": []
  }
 ],
 "metadata": {
  "kernelspec": {
   "display_name": "Python 3 (ipykernel)",
   "language": "python",
   "name": "python3"
  },
  "language_info": {
   "codemirror_mode": {
    "name": "ipython",
    "version": 3
   },
   "file_extension": ".py",
   "mimetype": "text/x-python",
   "name": "python",
   "nbconvert_exporter": "python",
   "pygments_lexer": "ipython3",
   "version": "3.8.13"
  }
 },
 "nbformat": 4,
 "nbformat_minor": 5
}
